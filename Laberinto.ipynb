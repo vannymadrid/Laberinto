{
  "nbformat": 4,
  "nbformat_minor": 0,
  "metadata": {
    "colab": {
      "provenance": [],
      "authorship_tag": "ABX9TyO/CFUvAxj+VhH4QiOTQakA",
      "include_colab_link": true
    },
    "kernelspec": {
      "name": "python3",
      "display_name": "Python 3"
    },
    "language_info": {
      "name": "python"
    }
  },
  "cells": [
    {
      "cell_type": "markdown",
      "metadata": {
        "id": "view-in-github",
        "colab_type": "text"
      },
      "source": [
        "<a href=\"https://colab.research.google.com/github/vannymadrid/Laberinto/blob/main/Laberinto.ipynb\" target=\"_parent\"><img src=\"https://colab.research.google.com/assets/colab-badge.svg\" alt=\"Open In Colab\"/></a>"
      ]
    },
    {
      "cell_type": "code",
      "execution_count": null,
      "metadata": {
        "colab": {
          "base_uri": "https://localhost:8080/"
        },
        "id": "tkiTPYZgQrkq",
        "outputId": "b9f4ac99-ef39-4ec9-a777-979b0730ef70"
      },
      "outputs": [
        {
          "output_type": "stream",
          "name": "stdout",
          "text": [
            "# # # # # # # # # # # # # # # # # # # #\n",
            "# . . . # . . . . # . . # . . # # . . #\n",
            "# # . . # . # . . . . . # # # # . . # #\n",
            "# # # . # # # # . . . . . . # . . . . #\n",
            "# # . . # # # . . . . . . # . . . . . #\n",
            "# . # . . . . # . # # . # . . # # # . #\n",
            "# # . . . . . . . # . . . . # . . . . #\n",
            "# # . # . # . . . . . # . # # . . . . #\n",
            "# . . # # . . . . . # . . . . # . . . #\n",
            "# # # # # # # # # # # # # # # # # # # #\n",
            "Vany, utiliza las teclas 'w', 'a', 's', 'd' para moverte, 'q' para salir.\n"
          ]
        }
      ],
      "source": [
        "import random\n",
        "from IPython.display import clear_output\n",
        "\n",
        "class Laberinto:\n",
        "    def __init__(self, filas, columnas):\n",
        "        self.filas = filas\n",
        "        self.columnas = columnas\n",
        "        self.laberinto = self.generar_laberinto()\n",
        "\n",
        "    def generar_laberinto(self):\n",
        "        laberinto = [['#']*self.columnas for _ in range(self.filas)]\n",
        "        for i in range(1, self.filas-1):\n",
        "            for j in range(1, self.columnas-1):\n",
        "                if random.random() > 0.3:\n",
        "                    laberinto[i][j] = '.'\n",
        "        return laberinto\n",
        "\n",
        "    def mostrar_laberinto(self):\n",
        "        clear_output()\n",
        "        for fila in self.laberinto:\n",
        "            print(' '.join(fila))\n",
        "\n",
        "\n",
        "class Jugador:\n",
        "    def __init__(self, laberinto, nombre):\n",
        "        self.laberinto = laberinto\n",
        "        self.posicion = (1, 1)\n",
        "        self.nombre = nombre\n",
        "\n",
        "    def mover(self, direccion):\n",
        "        fila, columna = self.posicion\n",
        "        if direccion == 'arriba' and self.laberinto[fila-1][columna] != '#':\n",
        "            self.posicion = (fila-1, columna)\n",
        "        elif direccion == 'abajo' and self.laberinto[fila+1][columna] != '#':\n",
        "            self.posicion = (fila+1, columna)\n",
        "        elif direccion == 'izquierda' and self.laberinto[fila][columna-1] != '#':\n",
        "            self.posicion = (fila, columna-1)\n",
        "        elif direccion == 'derecha' and self.laberinto[fila][columna+1] != '#':\n",
        "            self.posicion = (fila, columna+1)\n",
        "\n",
        "\n",
        "# Función principal del juego\n",
        "def jugar():\n",
        "    nombre = input(\"¡Bienvenido al laberinto! Por favor, introduce tu nombre: \")\n",
        "    lab = Laberinto(10, 20)\n",
        "    jugador = Jugador(lab.laberinto, nombre)\n",
        "\n",
        "    while True:\n",
        "        lab.mostrar_laberinto()\n",
        "        print(f\"{nombre}, utiliza las teclas 'w', 'a', 's', 'd' para moverte, 'q' para salir.\")\n",
        "\n",
        "        direccion = input(\"Introduce tu movimiento: \")\n",
        "\n",
        "        if direccion == 'q':\n",
        "            print(\"¡Hasta luego!\")\n",
        "            break\n",
        "        elif direccion in ['w', 'a', 's', 'd']:\n",
        "            jugador.mover(direccion)\n",
        "        else:\n",
        "            print(\"Movimiento no válido. Utiliza 'w', 'a', 's', 'd' para moverte.\")\n",
        "\n",
        "# Inicia el juego\n",
        "jugar()\n"
      ]
    }
  ]
}